{
 "cells": [
  {
   "cell_type": "markdown",
   "metadata": {},
   "source": [
    "# Assignment 4 Questions"
   ]
  },
  {
   "cell_type": "markdown",
   "metadata": {},
   "source": [
    "## Problem Statement"
   ]
  },
  {
   "cell_type": "markdown",
   "metadata": {},
   "source": [
    "Q.1 Given a sequence of n values x1, x2, ..., xn and a window size k>0, the k-th moving average of\n",
    "the given sequence is defined as follows:\n",
    "\n",
    "The moving average sequence has n-k+1 elements as shown below.\n",
    "The moving averages with k=4 of a ten-value sequence (n=10) is shown below\n",
    "\n",
    "    i 1 2 3 4 5 6 7 8 9 10\n",
    "    ===== == == == == == == == == == ==\n",
    "    Input 10 20 30 40 50 60 70 80 90 100\n",
    "    y1 25 = (10+20+30+40)/4\n",
    "    y2 35 = (20+30+40+50)/4\n",
    "    y3 45 = (30+40+50+60)/4\n",
    "    y4 55 = (40+50+60+70)/4\n",
    "    y5 65 = (50+60+70+80)/4\n",
    "    y6 75 = (60+70+80+90)/4\n",
    "    y7 85 = (70+80+90+100)/4\n",
    "\n",
    "Thus, the moving average sequence has n-k+1=10-4+1=7 values.\n",
    "\n",
    "Write a function to find moving average in an array over a window:\n",
    "\n",
    "Test it over [3, 5, 7, 2, 8, 10, 11, 65, 72, 81, 99, 100, 150] and window of 3."
   ]
  },
  {
   "cell_type": "code",
   "execution_count": 31,
   "metadata": {},
   "outputs": [
    {
     "name": "stdout",
     "output_type": "stream",
     "text": [
      "[5.0, 4.67, 5.67, 6.67, 9.67, 28.67, 49.33, 72.67, 84.0, 93.33, 116.33]\n"
     ]
    }
   ],
   "source": [
    "def moving_average(my_list, window):\n",
    "    moving_list = []\n",
    "    for i in range(len(my_list)):\n",
    "        if i < (len(my_list) - (window - 1)):\n",
    "            moving_list.append(round(sum(my_list[i:i+window])/window, 2))\n",
    "    return moving_list\n",
    "\n",
    "my_list = [3, 5, 7, 2, 8, 10, 11, 65, 72, 81, 99, 100, 150]\n",
    "window = 3\n",
    "print((moving_average(my_list, window)))"
   ]
  },
  {
   "cell_type": "markdown",
   "metadata": {},
   "source": [
    "Q.2 How-to-count-distance-to-the-previous-zero\n",
    "For each value, count the difference back to the previous zero (or the start of the Series,\n",
    "whichever is closer)\n",
    "create a new column 'Y'\n",
    "Consider a DataFrame df where there is an integer column 'X'\n",
    "    \n",
    "    import pandas as pd\n",
    "    df = pd.DataFrame({'X': [7, 2, 0, 3, 4, 2, 5, 0, 3, 4]})"
   ]
  },
  {
   "cell_type": "code",
   "execution_count": 25,
   "metadata": {},
   "outputs": [],
   "source": [
    "import numpy as np\n",
    "import pandas as pd"
   ]
  },
  {
   "cell_type": "code",
   "execution_count": 23,
   "metadata": {},
   "outputs": [
    {
     "data": {
      "text/html": [
       "<div>\n",
       "<style scoped>\n",
       "    .dataframe tbody tr th:only-of-type {\n",
       "        vertical-align: middle;\n",
       "    }\n",
       "\n",
       "    .dataframe tbody tr th {\n",
       "        vertical-align: top;\n",
       "    }\n",
       "\n",
       "    .dataframe thead th {\n",
       "        text-align: right;\n",
       "    }\n",
       "</style>\n",
       "<table border=\"1\" class=\"dataframe\">\n",
       "  <thead>\n",
       "    <tr style=\"text-align: right;\">\n",
       "      <th></th>\n",
       "      <th>X</th>\n",
       "      <th>Y</th>\n",
       "    </tr>\n",
       "  </thead>\n",
       "  <tbody>\n",
       "    <tr>\n",
       "      <th>0</th>\n",
       "      <td>7</td>\n",
       "      <td>1</td>\n",
       "    </tr>\n",
       "    <tr>\n",
       "      <th>1</th>\n",
       "      <td>2</td>\n",
       "      <td>2</td>\n",
       "    </tr>\n",
       "    <tr>\n",
       "      <th>2</th>\n",
       "      <td>0</td>\n",
       "      <td>0</td>\n",
       "    </tr>\n",
       "    <tr>\n",
       "      <th>3</th>\n",
       "      <td>3</td>\n",
       "      <td>1</td>\n",
       "    </tr>\n",
       "    <tr>\n",
       "      <th>4</th>\n",
       "      <td>4</td>\n",
       "      <td>2</td>\n",
       "    </tr>\n",
       "    <tr>\n",
       "      <th>5</th>\n",
       "      <td>2</td>\n",
       "      <td>3</td>\n",
       "    </tr>\n",
       "    <tr>\n",
       "      <th>6</th>\n",
       "      <td>5</td>\n",
       "      <td>4</td>\n",
       "    </tr>\n",
       "    <tr>\n",
       "      <th>7</th>\n",
       "      <td>0</td>\n",
       "      <td>0</td>\n",
       "    </tr>\n",
       "    <tr>\n",
       "      <th>8</th>\n",
       "      <td>3</td>\n",
       "      <td>1</td>\n",
       "    </tr>\n",
       "    <tr>\n",
       "      <th>9</th>\n",
       "      <td>4</td>\n",
       "      <td>2</td>\n",
       "    </tr>\n",
       "  </tbody>\n",
       "</table>\n",
       "</div>"
      ],
      "text/plain": [
       "   X  Y\n",
       "0  7  1\n",
       "1  2  2\n",
       "2  0  0\n",
       "3  3  1\n",
       "4  4  2\n",
       "5  2  3\n",
       "6  5  4\n",
       "7  0  0\n",
       "8  3  1\n",
       "9  4  2"
      ]
     },
     "execution_count": 23,
     "metadata": {},
     "output_type": "execute_result"
    }
   ],
   "source": [
    "df = pd.DataFrame({'X': [7, 2, 0, 3, 4, 2, 5, 0, 3, 4]})\n",
    "def zero_distance_counter(arr):\n",
    "    arr = list(arr)\n",
    "    arr2 = []\n",
    "    count = 1\n",
    "    for i in arr:\n",
    "        if(i == 0):\n",
    "            count = 0\n",
    "        arr2.append(count)\n",
    "        count = count + 1   \n",
    "    return arr2\n",
    "df['Y'] = zero_distance_counter(df['X'])\n",
    "df"
   ]
  },
  {
   "cell_type": "code",
   "execution_count": 16,
   "metadata": {},
   "outputs": [
    {
     "name": "stdout",
     "output_type": "stream",
     "text": [
      "[1, 2, 0, 1, 2, 3, 4, 0, 1]\n"
     ]
    }
   ],
   "source": [
    "arr = [7,2,0,3,4,5,1,0,2]\n",
    "arr2 = []\n",
    "counter = 1\n",
    "for item in arr:\n",
    "    if(item==0):\n",
    "        counter = 0\n",
    "\n",
    "    arr2.append(counter)\n",
    "    counter+=1\n",
    "\n",
    "print(arr2)"
   ]
  },
  {
   "cell_type": "markdown",
   "metadata": {},
   "source": [
    "Q.3 Create a DatetimeIndex that contains each business day of 2015 and use it to index a Series of\n",
    "random numbers."
   ]
  },
  {
   "cell_type": "code",
   "execution_count": 52,
   "metadata": {},
   "outputs": [],
   "source": [
    "df = pd.date_range(start='2015-01-01', end='2015-12-31')\n",
    "df = df[(df.weekday != 5) & (df.weekday != 6)]\n",
    "df = pd.Series(np.random.rand(len(df)), index=df)"
   ]
  },
  {
   "cell_type": "code",
   "execution_count": 53,
   "metadata": {},
   "outputs": [
    {
     "data": {
      "text/plain": [
       "2015-01-01    0.716278\n",
       "2015-01-02    0.236264\n",
       "2015-01-05    0.648931\n",
       "2015-01-06    0.967879\n",
       "2015-01-07    0.999415\n",
       "2015-01-08    0.588616\n",
       "2015-01-09    0.915647\n",
       "2015-01-12    0.182676\n",
       "2015-01-13    0.134008\n",
       "2015-01-14    0.595202\n",
       "2015-01-15    0.819398\n",
       "2015-01-16    0.612108\n",
       "2015-01-19    0.004003\n",
       "2015-01-20    0.364288\n",
       "2015-01-21    0.217176\n",
       "2015-01-22    0.313032\n",
       "2015-01-23    0.490154\n",
       "2015-01-26    0.790681\n",
       "2015-01-27    0.190825\n",
       "2015-01-28    0.803889\n",
       "2015-01-29    0.395868\n",
       "2015-01-30    0.661954\n",
       "2015-02-02    0.650287\n",
       "2015-02-03    0.660706\n",
       "2015-02-04    0.851093\n",
       "2015-02-05    0.866418\n",
       "2015-02-06    0.221574\n",
       "2015-02-09    0.130360\n",
       "2015-02-10    0.090308\n",
       "2015-02-11    0.845751\n",
       "                ...   \n",
       "2015-11-20    0.206891\n",
       "2015-11-23    0.099999\n",
       "2015-11-24    0.320005\n",
       "2015-11-25    0.029386\n",
       "2015-11-26    0.582559\n",
       "2015-11-27    0.971103\n",
       "2015-11-30    0.772441\n",
       "2015-12-01    0.807014\n",
       "2015-12-02    0.957514\n",
       "2015-12-03    0.359973\n",
       "2015-12-04    0.285652\n",
       "2015-12-07    0.111637\n",
       "2015-12-08    0.336678\n",
       "2015-12-09    0.598118\n",
       "2015-12-10    0.707910\n",
       "2015-12-11    0.685823\n",
       "2015-12-14    0.616997\n",
       "2015-12-15    0.323394\n",
       "2015-12-16    0.728007\n",
       "2015-12-17    0.994201\n",
       "2015-12-18    0.035561\n",
       "2015-12-21    0.257349\n",
       "2015-12-22    0.984559\n",
       "2015-12-23    0.108717\n",
       "2015-12-24    0.591841\n",
       "2015-12-25    0.377875\n",
       "2015-12-28    0.876595\n",
       "2015-12-29    0.158069\n",
       "2015-12-30    0.995054\n",
       "2015-12-31    0.555229\n",
       "Length: 261, dtype: float64"
      ]
     },
     "execution_count": 53,
     "metadata": {},
     "output_type": "execute_result"
    }
   ],
   "source": [
    "df"
   ]
  },
  {
   "cell_type": "markdown",
   "metadata": {},
   "source": [
    "Q.4 "
   ]
  },
  {
   "cell_type": "code",
   "execution_count": null,
   "metadata": {},
   "outputs": [],
   "source": []
  }
 ],
 "metadata": {
  "kernelspec": {
   "display_name": "Python 3",
   "language": "python",
   "name": "python3"
  },
  "language_info": {
   "codemirror_mode": {
    "name": "ipython",
    "version": 3
   },
   "file_extension": ".py",
   "mimetype": "text/x-python",
   "name": "python",
   "nbconvert_exporter": "python",
   "pygments_lexer": "ipython3",
   "version": "3.6.5"
  }
 },
 "nbformat": 4,
 "nbformat_minor": 2
}
