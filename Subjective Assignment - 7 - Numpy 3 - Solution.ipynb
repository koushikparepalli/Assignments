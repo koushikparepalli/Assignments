{
 "cells": [
  {
   "cell_type": "markdown",
   "metadata": {},
   "source": [
    "# Assignment"
   ]
  },
  {
   "cell_type": "markdown",
   "metadata": {},
   "source": [
    "Q1. Create two arrays of six elements. Write the NumPy program to\n",
    "count the number of instances of a value occurring in one array on\n",
    "the condition of another array.\n",
    "\n",
    "    Sample OutputOriginal arrays-\n",
    "    [ 10 -10 10 -10 -10 10]\n",
    "    [0.85 0.45 0.9 0.8 0.12 0.6 ]\n",
    "    Number of instances of a value occurring in one array on the condition of another\n",
    "    array: 3\n"
   ]
  },
  {
   "cell_type": "code",
   "execution_count": 1,
   "metadata": {},
   "outputs": [],
   "source": [
    "import numpy as np"
   ]
  },
  {
   "cell_type": "code",
   "execution_count": 21,
   "metadata": {},
   "outputs": [
    {
     "name": "stdout",
     "output_type": "stream",
     "text": [
      "1st array\n",
      "[ 10 -10  10 -10 -10  10]\n",
      "2nd array\n",
      "[0.85 0.45 0.9  0.8  0.12 0.6 ]\n",
      "Number of instances of a value occurring in one array on the condition of another\n",
      "3\n"
     ]
    }
   ],
   "source": [
    "sample1 = np.array([ 10, -10, 10, -10, -10, 10])\n",
    "sample2 = np.array([0.85, 0.45, 0.9, 0.8, 0.12, 0.6 ])\n",
    "print(\"1st array\")\n",
    "print(sample1)\n",
    "print(\"2nd array\")\n",
    "print(sample2)\n",
    "x = np.where((sample1 == 10) & (sample2 > 0.5))\n",
    "print(\"Number of instances of a value occurring in one array on the condition of another\")\n",
    "print(np.size(x))"
   ]
  },
  {
   "cell_type": "markdown",
   "metadata": {},
   "source": [
    "Q2. Write the NumPy program to convert a Python dictionary to a\n",
    "Numpy ndarray ?\n",
    "    \n",
    "    Original dictionary-\n",
    "    {'column0': {'a': 1, 'b': 0.0, 'c': 0.0, 'd': 2.0},\n",
    "    'column1': {'a': 3.0, 'b': 1, 'c': 0.0, 'd': -1.0},\n",
    "    'column2': {'a': 4, 'b': 1, 'c': 5.0, 'd': -1.0},\n",
    "    'column3': {'a': 3.0, 'b': -1.0, 'c': -1.0, 'd': -1.0}}\n",
    "    Type: <class 'dict'>\n",
    "    ndarray-\n",
    "    [[ 1. 0. 0. 2.]\n",
    "    [ 3. 1. 0. -1.]\n",
    "    [ 4. 1. 5. -1.]\n",
    "    [ 3. -1. -1. -1.]]\n",
    "    Type: <class 'numpy.ndarray'>\n"
   ]
  },
  {
   "cell_type": "code",
   "execution_count": 46,
   "metadata": {},
   "outputs": [
    {
     "name": "stdout",
     "output_type": "stream",
     "text": [
      "Original Dictionary\n",
      "{'column0': {'a': 1, 'b': 0.0, 'c': 0.0, 'd': 2.0}, 'column1': {'a': 3.0, 'b': 1, 'c': 0.0, 'd': -1.0}, 'column2': {'a': 4, 'b': 1, 'c': 5.0, 'd': -1.0}, 'column3': {'a': 3.0, 'b': -1.0, 'c': -1.0, 'd': -1.0}}\n",
      "ndarray - \n",
      "[[ 1.  0.  0.  2.]\n",
      " [ 3.  1.  0. -1.]\n",
      " [ 4.  1.  5. -1.]\n",
      " [ 3. -1. -1. -1.]]\n"
     ]
    }
   ],
   "source": [
    "my_dict = {'column0': {'a': 1, 'b': 0.0, 'c': 0.0, 'd': 2.0}, 'column1': {'a': 3.0, 'b': 1, 'c': 0.0, 'd': -1.0},\n",
    "           'column2': {'a': 4, 'b': 1, 'c': 5.0, 'd': -1.0}, 'column3': {'a': 3.0, 'b': -1.0, 'c': -1.0, 'd': -1.0}}\n",
    "print(\"Original Dictionary\")\n",
    "print(my_dict)\n",
    "print(\"ndarray - \")\n",
    "print(np.array([list(i.values()) for i in my_dict.values()]))"
   ]
  },
  {
   "cell_type": "markdown",
   "metadata": {},
   "source": [
    "Q3. Write the Numpy program to find and store the non-zero unique\n",
    "rows in an array after comparing each row with other row in the\n",
    "given matrix?\n",
    " \n",
    "    Original array-\n",
    "    [[ 1 1 0]\n",
    "    [ 0 0 0]\n",
    "    [ 0 2 3]\n",
    "    [ 0 0 0]\n",
    "    [ 0 -1 1]\n",
    "    [ 0 0 0]]\n",
    "    Non-zero unique rows-\n",
    "    [[ 1 1 0]\n",
    "    [ 0 2 3]\n",
    "    [ 0 -1 1]]"
   ]
  },
  {
   "cell_type": "code",
   "execution_count": 107,
   "metadata": {},
   "outputs": [
    {
     "name": "stdout",
     "output_type": "stream",
     "text": [
      "Original array\n",
      "[[ 1  1  0]\n",
      " [ 0  0  0]\n",
      " [ 0  2  3]\n",
      " [ 0  0  0]\n",
      " [ 0 -1  1]\n",
      " [ 0  0  0]]\n",
      "Non-zero unique rows - \n",
      "[[ 1  1  0]\n",
      " [ 0  2  3]\n",
      " [ 0 -1  1]]\n"
     ]
    }
   ],
   "source": [
    "sample = np.array([[1, 1, 0] ,[0, 0, 0], [0, 2, 3], [0, 0, 0], [0 ,-1, 1], [0, 0, 0]])\n",
    "print(\"Original array\")\n",
    "print(sample)   \n",
    "print(\"Non-zero unique rows - \")\n",
    "print(np.array([sample[i] for i in range(len(sample)) if not np.array_equal(sample[i], np.array([0, 0, 0]))]))"
   ]
  },
  {
   "cell_type": "markdown",
   "metadata": {},
   "source": [
    "Q4. Write the NumPy program to multiply the matrix by another matrix\n",
    "of complex numbers and create a new matrix of complex\n",
    "numbers?\n",
    "\n",
    "    Sample outputFirst array-\n",
    "    [ 1.+2.j 3.+4.j]\n",
    "    Second array-\n",
    "    [ 5.+6.j 7.+8.j]\n",
    "    Product of above two arrays-\n",
    "    (70-8j)"
   ]
  },
  {
   "cell_type": "code",
   "execution_count": 81,
   "metadata": {},
   "outputs": [
    {
     "name": "stdout",
     "output_type": "stream",
     "text": [
      "First array - \n",
      "[1.+2.j 3.+4.j]\n",
      "Second array - \n",
      "[5.+6.j 7.+8.j]\n",
      "Product of above two arrays\n",
      "(70-8j)\n"
     ]
    }
   ],
   "source": [
    "sample1 = np.array([1+2j, 3+4j])\n",
    "print(\"First array - \")\n",
    "print(sample1)\n",
    "print(\"Second array - \")\n",
    "sample2 = np.array([5.+6.j, 7.+8.j])\n",
    "print(sample2)\n",
    "print(\"Product of above two arrays\")\n",
    "print(np.vdot(sample1, sample2))"
   ]
  },
  {
   "cell_type": "markdown",
   "metadata": {},
   "source": [
    "Q5. Write a NumPy program to generate the matrix product of two\n",
    "Arrays?\n",
    "\n",
    "    Sample OutputMatrices and vectors.\n",
    "    x-\n",
    "    [[1, 0], [1, 1]]\n",
    "    y-\n",
    "    [[3, 1], [2, 2]]\n",
    "    Matrix product of above two arrays-\n",
    "    [[3 1]\n",
    "    [5 3]]\n"
   ]
  },
  {
   "cell_type": "code",
   "execution_count": 83,
   "metadata": {},
   "outputs": [
    {
     "name": "stdout",
     "output_type": "stream",
     "text": [
      "x - \n",
      "[[1 0]\n",
      " [1 1]]\n",
      "y - \n",
      "[[3 1]\n",
      " [2 2]]\n",
      "Matrix product of above two arrays - \n",
      "[[3 1]\n",
      " [5 3]]\n"
     ]
    }
   ],
   "source": [
    "x = np.array([[1, 0], [1, 1]])\n",
    "print(\"x - \")\n",
    "print(x)\n",
    "y = np.array([[3, 1], [2, 2]])\n",
    "print(\"y - \")\n",
    "print(y)\n",
    "print(\"Matrix product of above two arrays - \")\n",
    "print(np.dot(x, y))"
   ]
  },
  {
   "cell_type": "markdown",
   "metadata": {},
   "source": [
    "Q6. Write the NumPy program to find roots of the following\n",
    "Polynomials?\n",
    "\n",
    "    a) (x\n",
    "    2\n",
    "    - 4x + 7)\n",
    "    b) x4\n",
    "    - 11x3 + 9x2 + 11x ? 10\n",
    "    Sample outputRoots of the first polynomial-\n",
    "    [ 1. 1.]\n",
    "    Roots of the second polynomial-\n",
    "    [ 11.04461946+0.j -0.87114210+0.j 0.91326132+0.4531004j\n",
    "    0.91326132-0.4531004j ]"
   ]
  },
  {
   "cell_type": "code",
   "execution_count": 33,
   "metadata": {},
   "outputs": [
    {
     "name": "stdout",
     "output_type": "stream",
     "text": [
      "Roots of the first polynomial -  [2.+1.73205081j 2.-1.73205081j]\n",
      "Roots of the second polynomial -  [ 9.97739366+0.j          1.9206355 +0.j         -0.44901458+0.56588568j\n",
      " -0.44901458-0.56588568j]\n"
     ]
    }
   ],
   "source": [
    "sample1 = np.array([1, -4, 7])\n",
    "print(\"Roots of the first polynomial - \", np.roots(sample1))\n",
    "sample2 = np.array([1, -11, 9, 11, 10])\n",
    "print(\"Roots of the second polynomial - \", np.roots(sample2))"
   ]
  },
  {
   "cell_type": "markdown",
   "metadata": {},
   "source": [
    "Q7. Write the NumPy program to calculate inverse of sine, cosine,\n",
    "and inverse tangent for all elements in a given array?\n",
    "\n",
    "    Sample outputInverse sine- [-1.57079633 0. 1.57079633]\n",
    "    Inverse cosine- [3.14159265 1.57079633 0. ]\n",
    "    Inverse tangent- [-0.78539816 0. 0.78539816]"
   ]
  },
  {
   "cell_type": "code",
   "execution_count": 6,
   "metadata": {},
   "outputs": [
    {
     "name": "stdout",
     "output_type": "stream",
     "text": [
      "[-0.57079633  0.          0.57079633]\n",
      "Inverse sine -  [-0.60747537  0.          0.60747537]\n",
      "Inverse cosine -  [2.1782717  1.57079633 0.96332096]\n",
      "Inverse tangent -  [-0.51866937  0.          0.51866937]\n"
     ]
    }
   ],
   "source": [
    "sample = np.array([-0.57079633, 0., 0.57079633])\n",
    "print(sample)\n",
    "print(\"Inverse sine - \", np.arcsin(sample))\n",
    "print(\"Inverse cosine - \", np.arccos(sample))\n",
    "print(\"Inverse tangent - \", np.arctan(sample))"
   ]
  },
  {
   "cell_type": "markdown",
   "metadata": {},
   "source": [
    "Q8. Write the NumPy program to calculate the difference between in\n",
    "neighbouring elements, element-wise of a given array?\n",
    "\n",
    "    Sample outputOriginal array-\n",
    "    [1 3 5 7 0]\n",
    "    Difference between neighbouring elements, element-wise of the said array-\n",
    "    [ 2 2 2 -7]"
   ]
  },
  {
   "cell_type": "code",
   "execution_count": 13,
   "metadata": {},
   "outputs": [
    {
     "name": "stdout",
     "output_type": "stream",
     "text": [
      "Original array - \n",
      "[1 3 5 7 0]\n",
      "Difference between neighbouring elements, element-wise of the said array - \n",
      "[-2 -2 -2  7]\n"
     ]
    }
   ],
   "source": [
    "sample = np.array([1, 3, 5, 7, 0])\n",
    "print(\"Original array - \")\n",
    "print(sample)\n",
    "print(\"Difference between neighbouring elements, element-wise of the said array - \")\n",
    "print(np.array([sample[i] - sample[i+1] for i in range(len(sample)) if i != len(sample)-1]))"
   ]
  },
  {
   "cell_type": "markdown",
   "metadata": {},
   "source": [
    "Q9. Write the Python program to find the maximum and the minimum\n",
    "value of a given flattened array?\n",
    "\n",
    "    Expected OutputOriginal flattened array-\n",
    "    [[0 1]\n",
    "    [2 3]]\n",
    "    Maximum value of the above flattened array3\n",
    "    Minimum value of the above flattened array0"
   ]
  },
  {
   "cell_type": "code",
   "execution_count": 85,
   "metadata": {},
   "outputs": [
    {
     "name": "stdout",
     "output_type": "stream",
     "text": [
      "Original Array - \n",
      "[[0 1]\n",
      " [2 3]]\n",
      "Maximum value of the above flattened array -  3\n",
      "Minimum value of the above flattened array -  0\n"
     ]
    }
   ],
   "source": [
    "sample = np.array([[0, 1], [2, 3]])\n",
    "print(\"Original Array - \")\n",
    "print(sample)\n",
    "sample = sample.flatten()\n",
    "print(\"Maximum value of the above flattened array - \", max(sample))\n",
    "print(\"Minimum value of the above flattened array - \", min(sample))"
   ]
  },
  {
   "cell_type": "markdown",
   "metadata": {},
   "source": [
    "Q10. Write the NumPy program to calculate the difference between in\n",
    "the maximum and the minimum values of a given array along the\n",
    "second axis ?\n",
    "\n",
    "    Expected OutputOriginal array-\n",
    "    [[ 0 1 2 3 4 5]\n",
    "    [ 6 7 8 9 10 11]]\n",
    "    Difference between the maximum and the minimum values of the said array-\n",
    "    [5 5]\n"
   ]
  },
  {
   "cell_type": "code",
   "execution_count": 28,
   "metadata": {},
   "outputs": [
    {
     "name": "stdout",
     "output_type": "stream",
     "text": [
      "Original array - \n",
      "[[ 0  1  2  3  4  5]\n",
      " [ 6  7  8  9 10 11]]\n",
      "Difference between the maximum and the minimum values of the said array - \n",
      "[5 5]\n"
     ]
    }
   ],
   "source": [
    "sample = np.array([[0, 1, 2, 3, 4, 5], [6, 7, 8, 9, 10, 11]])\n",
    "print(\"Original array - \")\n",
    "print(sample)\n",
    "x = max(sample[0]) - min(sample[0])\n",
    "y = max(sample[1]) - min(sample[1])\n",
    "print(\"Difference between the maximum and the minimum values of the said array - \")\n",
    "print(np.array([x, y]))"
   ]
  },
  {
   "cell_type": "markdown",
   "metadata": {},
   "source": [
    "Q11. Write the NumPy program to compute the weighted of the given\n",
    "array ?\n",
    "\n",
    "    Sample OutputOriginal array-\n",
    "    [0 1 2 3 4]\n",
    "    Weighted average of the said array2.6666666666666665"
   ]
  },
  {
   "cell_type": "code",
   "execution_count": 34,
   "metadata": {},
   "outputs": [
    {
     "name": "stdout",
     "output_type": "stream",
     "text": [
      "Original array - \n",
      "[0 1 2 3 4]\n",
      "Weighted average of the said array -  2.6666666666666665\n"
     ]
    }
   ],
   "source": [
    "sample = np.array([0, 1, 2, 3, 4])\n",
    "print(\"Original array - \")\n",
    "print(sample)\n",
    "print(\"Weighted average of the said array - \", np.average(sample, weights=[1, 2, 3, 4, 5]))"
   ]
  },
  {
   "cell_type": "markdown",
   "metadata": {},
   "source": [
    "Q12. Write the NumPy program to compute the mean, standard\n",
    "deviation, and the variance of a given array along the second\n",
    "axis?\n",
    "\n",
    "    Sample outputOriginal array-\n",
    "    [0 1 2 3 4 5]\n",
    "    Mean- 2.5\n",
    "    std- 1\n",
    "    variance- 2.9166666666666665"
   ]
  },
  {
   "cell_type": "code",
   "execution_count": 122,
   "metadata": {},
   "outputs": [
    {
     "name": "stdout",
     "output_type": "stream",
     "text": [
      "Original array - \n",
      "[0 1 2 3 4 5]\n",
      "Mean -  2.5\n",
      "Standard Deviation -  1.707825127659933\n",
      "Variance -  2.9166666666666665\n"
     ]
    }
   ],
   "source": [
    "sample = np.array([0, 1, 2, 3, 4, 5])\n",
    "print(\"Original array - \")\n",
    "print(sample)\n",
    "print(\"Mean - \", sample.mean())\n",
    "print(\"Standard Deviation - \", sample.std())\n",
    "print(\"Variance - \", sample.var())"
   ]
  },
  {
   "cell_type": "markdown",
   "metadata": {},
   "source": [
    "Q13. Write the Numpy program to compute the covariance matrix of the\n",
    "two given arrays?\n",
    "    \n",
    "    Sample OutputOriginal array1-\n",
    "    [0 1 2]\n",
    "    Original array1-\n",
    "    [2 1 0]\n",
    "    Covariance matrix of the said arrays-\n",
    "    [[ 1. -1.]\n",
    "    [-1. 1.]]"
   ]
  },
  {
   "cell_type": "code",
   "execution_count": 22,
   "metadata": {},
   "outputs": [
    {
     "name": "stdout",
     "output_type": "stream",
     "text": [
      "Original array1 - \n",
      "[0 1 2]\n",
      "Original array 2- \n",
      "[2 1 0]\n",
      "Covariance matrix of the said arrays - \n",
      "[[ 1. -1.]\n",
      " [-1.  1.]]\n"
     ]
    }
   ],
   "source": [
    "sample1 = np.array([0, 1, 2])\n",
    "print(\"Original array1 - \")\n",
    "print(sample1)\n",
    "sample2 = np.array([2, 1, 0])\n",
    "print(\"Original array 2- \")\n",
    "print(sample2)\n",
    "print(\"Covariance matrix of the said arrays - \")\n",
    "print(np.cov(sample1, sample2))"
   ]
  },
  {
   "cell_type": "markdown",
   "metadata": {},
   "source": [
    "Q14. Write a NumPy program to compute the cross-correlation of two\n",
    "given arrays ?\n",
    "\n",
    "    Sample OutputOriginal array1-\n",
    "    [0 1 3]\n",
    "    Original array1-\n",
    "    [2 4 5]\n",
    "    Cross-correlation of the said arrays-\n",
    "    [ [ 2.33333333 2.16666667 ]\n",
    "     [ 2.16666667 2.33333333 ] ]"
   ]
  },
  {
   "cell_type": "code",
   "execution_count": 19,
   "metadata": {},
   "outputs": [
    {
     "name": "stdout",
     "output_type": "stream",
     "text": [
      "Original array1 - \n",
      "[0 1 3]\n",
      "Original array2 - \n",
      "Cross-correlation of the said arrays - \n",
      "[[2.33333333 2.16666667]\n",
      " [2.16666667 2.33333333]]\n"
     ]
    }
   ],
   "source": [
    "sample1 = np.array([0, 1, 3])\n",
    "print(\"Original array1 - \")\n",
    "print(sample1)\n",
    "print(\"Original array2 - \")\n",
    "sample2 = np.array([2, 4, 5])\n",
    "print(\"Cross-correlation of the said arrays - \")\n",
    "print(np.cov(sample1, sample2))"
   ]
  },
  {
   "cell_type": "markdown",
   "metadata": {},
   "source": [
    "Q15. Write the NumPy program to compute Pearson product-moment\n",
    "correlation coefficients of two given arrays?\n",
    "\n",
    "    Sample OutputOriginal array1-\n",
    "    [0 1 3]\n",
    "    Original array1-\n",
    "    [2 4 5]\n",
    "    Pearson product-moment correlation coefficients of the said arrays-\n",
    "    [[1. 0.92857143]\n",
    "    [0.92857143 1. ]]"
   ]
  },
  {
   "cell_type": "code",
   "execution_count": 128,
   "metadata": {},
   "outputs": [
    {
     "name": "stdout",
     "output_type": "stream",
     "text": [
      "Original array1 - \n",
      "[0 1 3]\n",
      "Original array2 - \n",
      "[2 4 5]\n",
      "Pearson product-moment correlation coefficients of the said arrays - \n",
      "[[1.         0.92857143]\n",
      " [0.92857143 1.        ]]\n"
     ]
    }
   ],
   "source": [
    "sample1 = np.array([0, 1, 3])\n",
    "print(\"Original array1 - \")\n",
    "print(sample1)\n",
    "print(\"Original array2 - \")\n",
    "sample2 = np.array([2, 4, 5])\n",
    "print(sample2)\n",
    "print(\"Pearson product-moment correlation coefficients of the said arrays - \")\n",
    "print(np.corrcoef(sample1, sample2))"
   ]
  },
  {
   "cell_type": "markdown",
   "metadata": {},
   "source": [
    "Q16. Write the python program to count the number of occurrences of\n",
    "each value in a given array of non-negative integers?\n",
    " \n",
    "Note: bincount() Function- It count the occurrence of each value in an array of the\n",
    "non- negative integers in the range of the array between the minimum and maximum values\n",
    "including the values that did not occur.\n",
    "\n",
    "    Sample OutputOriginal array-\n",
    "    [0, 1, 6, 1, 4, 1, 2, 2, 7]\n",
    "    Number of occurrences of each value in array-\n",
    "    [1 3 2 0 1 0 1 1]"
   ]
  },
  {
   "cell_type": "code",
   "execution_count": 20,
   "metadata": {},
   "outputs": [
    {
     "name": "stdout",
     "output_type": "stream",
     "text": [
      "Original array - \n",
      "[0 1 6 1 4 1 2 2 7]\n",
      "Number of occurrences of each value in array - \n",
      "[1 3 2 0 1 0 1 1]\n"
     ]
    }
   ],
   "source": [
    "sample = np.array([0, 1, 6, 1, 4, 1, 2, 2, 7])\n",
    "print(\"Original array - \")\n",
    "print(sample)\n",
    "print(\"Number of occurrences of each value in array - \")\n",
    "print(np.bincount(sample))"
   ]
  },
  {
   "cell_type": "markdown",
   "metadata": {},
   "source": [
    "Q17. Write a Numpy program to compute the histogram of nums\n",
    "against the bins?\n",
    "\n",
    "    Sample Outputnums- [0.5 0.7 1. 1.2 1.3 2.1]\n",
    "    P a g e 29 | 44\n",
    "    bins- [0 1 2 3]\n",
    "    Result- (array([2, 3, 1], dtype=int64), array([0, 1, 2, 3]))"
   ]
  },
  {
   "cell_type": "code",
   "execution_count": 100,
   "metadata": {},
   "outputs": [
    {
     "name": "stdout",
     "output_type": "stream",
     "text": [
      "nums -  [0.5 0.7 1.  1.2 1.3 2.1]\n",
      "bins -  [0 1 2 3]\n",
      "Result -  (array([2, 3, 1], dtype=int64), array([0, 1, 2, 3]))\n"
     ]
    }
   ],
   "source": [
    "sample = np.array([0.5, 0.7, 1., 1.2, 1.3, 2.1])\n",
    "print(\"nums - \", sample)\n",
    "print(\"bins - \", np.array([0, 1, 2, 3]))\n",
    "print(\"Result - \", np.histogram(sample, bins=np.array([0, 1, 2, 3])))"
   ]
  },
  {
   "cell_type": "markdown",
   "metadata": {},
   "source": [
    "## Great Job!"
   ]
  }
 ],
 "metadata": {
  "kernelspec": {
   "display_name": "Python 3",
   "language": "python",
   "name": "python3"
  },
  "language_info": {
   "codemirror_mode": {
    "name": "ipython",
    "version": 3
   },
   "file_extension": ".py",
   "mimetype": "text/x-python",
   "name": "python",
   "nbconvert_exporter": "python",
   "pygments_lexer": "ipython3",
   "version": "3.6.5"
  }
 },
 "nbformat": 4,
 "nbformat_minor": 2
}
